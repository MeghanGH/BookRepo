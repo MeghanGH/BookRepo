{
  "cells": [
    {
      "cell_type": "code",
      "source": [
        "!pip install simpy"
      ],
      "metadata": {
        "id": "lA6k0bVJFPmk",
        "outputId": "09149f24-70c5-4ae5-d370-56f8a5ab8e0d",
        "colab": {
          "base_uri": "https://localhost:8080/"
        }
      },
      "execution_count": 3,
      "outputs": [
        {
          "output_type": "stream",
          "name": "stdout",
          "text": [
            "Collecting simpy\n",
            "  Downloading simpy-4.0.2-py2.py3-none-any.whl (30 kB)\n",
            "Installing collected packages: simpy\n",
            "Successfully installed simpy-4.0.2\n"
          ]
        }
      ]
    },
    {
      "cell_type": "code",
      "execution_count": 4,
      "metadata": {
        "id": "WatAzQdOEbKO"
      },
      "outputs": [],
      "source": [
        "%matplotlib inline\n",
        "import matplotlib.pyplot as plt\n",
        "plt.rcParams['figure.figsize'] = [10, 5]\n",
        "\n",
        "import pdb\n",
        "\n",
        "import simpy\n",
        "import random\n",
        "import numpy as np"
      ]
    },
    {
      "cell_type": "markdown",
      "metadata": {
        "id": "q-xhHeUPEbKR"
      },
      "source": [
        "## A simpler example"
      ]
    },
    {
      "cell_type": "code",
      "execution_count": 5,
      "metadata": {
        "id": "JCjut5XmEbKV"
      },
      "outputs": [],
      "source": [
        "def car(env, num):\n",
        "     while True:\n",
        "         print('Car # %d: Park at at %d' % (num, env.now))\n",
        "         parking_duration = 2 + random.randint(0, 3)\n",
        "         yield env.timeout(parking_duration)\n",
        "\n",
        "         print('Car # %d: Drive at %d'   % (num, env.now))\n",
        "         trip_duration = 20 + random.randint(0, 6)\n",
        "         yield env.timeout(trip_duration)"
      ]
    },
    {
      "cell_type": "markdown",
      "metadata": {
        "id": "-AaBOOv2EbKW"
      },
      "source": [
        "### Simulate just one car"
      ]
    },
    {
      "cell_type": "code",
      "execution_count": 6,
      "metadata": {
        "id": "3FfyZwAIEbKW",
        "outputId": "4c855ffb-19ba-4a6a-a6e1-a459fcb6c419",
        "colab": {
          "base_uri": "https://localhost:8080/"
        }
      },
      "outputs": [
        {
          "output_type": "stream",
          "name": "stdout",
          "text": [
            "Car # 1: Park at at 0\n",
            "Car # 1: Drive at 4\n",
            "Car # 1: Park at at 28\n",
            "Car # 1: Drive at 32\n",
            "Car # 1: Park at at 53\n",
            "Car # 1: Drive at 58\n",
            "Car # 1: Park at at 84\n",
            "Car # 1: Drive at 86\n",
            "Car # 1: Park at at 106\n",
            "Car # 1: Drive at 110\n",
            "Car # 1: Park at at 133\n",
            "Car # 1: Drive at 136\n"
          ]
        }
      ],
      "source": [
        "env = simpy.Environment()\n",
        "env.process(car(env, 1))\n",
        "env.run(until=150)"
      ]
    },
    {
      "cell_type": "code",
      "execution_count": 7,
      "metadata": {
        "id": "_x6uQumqEbKX",
        "outputId": "117465c4-be12-4891-bf7d-fb48e69aa88f",
        "colab": {
          "base_uri": "https://localhost:8080/"
        }
      },
      "outputs": [
        {
          "output_type": "stream",
          "name": "stdout",
          "text": [
            "Car # 1: Park at at 0\n",
            "Car # 2: Park at at 0\n",
            "Car # 3: Park at at 0\n",
            "Car # 1: Drive at 2\n",
            "Car # 3: Drive at 4\n",
            "Car # 2: Drive at 5\n",
            "Car # 1: Park at at 22\n",
            "Car # 3: Park at at 25\n",
            "Car # 1: Drive at 25\n",
            "Car # 2: Park at at 30\n",
            "Car # 3: Drive at 30\n",
            "Car # 2: Drive at 35\n",
            "Car # 1: Park at at 47\n",
            "Car # 1: Drive at 51\n",
            "Car # 3: Park at at 54\n",
            "Car # 3: Drive at 57\n",
            "Car # 2: Park at at 60\n",
            "Car # 2: Drive at 65\n",
            "Car # 1: Park at at 75\n",
            "Car # 1: Drive at 77\n",
            "Car # 3: Park at at 81\n",
            "Car # 3: Drive at 83\n",
            "Car # 2: Park at at 88\n",
            "Car # 2: Drive at 92\n",
            "Car # 1: Park at at 101\n",
            "Car # 1: Drive at 104\n",
            "Car # 3: Park at at 107\n",
            "Car # 3: Drive at 110\n",
            "Car # 2: Park at at 115\n",
            "Car # 2: Drive at 119\n",
            "Car # 1: Park at at 125\n",
            "Car # 1: Drive at 127\n",
            "Car # 3: Park at at 130\n",
            "Car # 3: Drive at 132\n",
            "Car # 2: Park at at 141\n",
            "Car # 2: Drive at 146\n"
          ]
        }
      ],
      "source": [
        "env = simpy.Environment()\n",
        "env.process(car(env, 1))\n",
        "env.process(car(env, 2))\n",
        "env.process(car(env, 3))\n",
        "env.run(until=150)"
      ]
    },
    {
      "cell_type": "markdown",
      "metadata": {
        "id": "EftBZHnAEbKY"
      },
      "source": [
        "## A more complex ecology inspired example with a scarce resource"
      ]
    },
    {
      "cell_type": "code",
      "execution_count": 8,
      "metadata": {
        "id": "CihFGWYHEbKY"
      },
      "outputs": [],
      "source": [
        "\"\"\"\n",
        "A forest has 3 lakes, each of which can accommodate 2 individual animals at once.\n",
        "There are prey and predator animals. When not drinking, the predator animals eat prey\n",
        "animals when the prey cross their paths. When not drinking, the prey animals\n",
        "are either reproducing  (asexually) or bumping into predators and being eaten.\n",
        "\"\"\"\n",
        "\n",
        "MTTD               = 600.0 # mean time before an animal needs to drink after drinking\n",
        "DRINK_MIN          = 120.0 # min time between drinks from the lake\n",
        "DRINK_MEAN         = 5.0\n",
        "DRINK_SIGMA        = 1.0\n",
        "REPRO_MEAN         = 200.0 # mean time to reproduce\n",
        "REPRO_SIGMA        = 20.0 # sd of time to reproduce\n",
        "EAT_MEAN           = 10.0 # mean time to eat prey\n",
        "EAT_SIGMA          = 1.0 # sd of time to eat prety\n",
        "TREE_GROW_DURATION = 4000"
      ]
    },
    {
      "cell_type": "code",
      "execution_count": 9,
      "metadata": {
        "id": "BXEOFdbIEbKZ"
      },
      "outputs": [],
      "source": [
        "def time_to_(activity):\n",
        "    activity_time = 1.0\n",
        "    if activity == 'go_to_lake_':\n",
        "        activity_time = random.expovariate(MTTD) + DRINK_MIN\n",
        "    elif activity == 'drink':\n",
        "        activity_time =  random.normalvariate(DRINK_MEAN, DRINK_SIGMA)\n",
        "    elif activity == 'repro':\n",
        "        activity_time =  random.normalvariate(REPRO_MEAN, REPRO_SIGMA)\n",
        "    elif activity == 'eat':\n",
        "        activity_time =  random.normalvariate(EAT_MEAN, EAT_SIGMA)\n",
        "    return max(activity_time, 1.0)"
      ]
    },
    {
      "cell_type": "code",
      "execution_count": 10,
      "metadata": {
        "id": "q2zVIhVAEbKb"
      },
      "outputs": [],
      "source": [
        "class Animal(object):\n",
        "    def __init__(self, env, name, lake):\n",
        "        self.env            = env\n",
        "        self.name           = name\n",
        "        self.offspring_made = 0\n",
        "        self.thirsty        = False\n",
        "\n",
        "        self.process = env.process(self.living(lake))\n",
        "        env.process(self.drink_from_lake())\n",
        "\n",
        "    def living(self, lake):\n",
        "        while True:\n",
        "            # Start making a new part\n",
        "            done_in = time_to_('eat')\n",
        "            while done_in:\n",
        "                try:\n",
        "                    # Working on the part\n",
        "                    start = self.env.now\n",
        "                    #print(\"started eating = %f and time remaining = %f\" % (self.env.now, done_in))\n",
        "                    yield self.env.timeout(done_in)\n",
        "                    done_in = 0  # Set to 0 to exit while loop.\n",
        "                except simpy.Interrupt:\n",
        "                    self.thirsty = True\n",
        "                    done_in -= self.env.now - start  # How much time left?\n",
        "\n",
        "                    # Seek access to the lake, either by waiting for another\n",
        "                    # animal to finish or displacing a feeding sapling\n",
        "                    with lake.request(priority=1) as req:\n",
        "                        yield req\n",
        "                        drink_time = time_to_('drink')\n",
        "                        #print(\"started drinking = %f and time remaining = %f\" % (self.env.now, drink_time))\n",
        "                        yield self.env.timeout(drink_time)\n",
        "                    self.thirsty = False\n",
        "\n",
        "            # Start making a new part\n",
        "            done_in = time_to_('repro')\n",
        "            while done_in:\n",
        "                try:\n",
        "                    # Working on the part\n",
        "                    start = self.env.now\n",
        "                    #print(\"started breeding = %f and time remaining = %f\" % (self.env.now, done_in))\n",
        "                    yield self.env.timeout(done_in)\n",
        "                    #print(\"MADE A BABY\")\n",
        "                    self.offspring_made += 1\n",
        "\n",
        "                    done_in = 0  # Set to 0 to exit while loop.\n",
        "\n",
        "                except simpy.Interrupt:\n",
        "                    self.thirsty = True\n",
        "                    done_in -= self.env.now - start  # How much time left?\n",
        "\n",
        "                    # Seek access to the lake, either by waiting for another\n",
        "                    # animal to finish or displacing a feeding sapling\n",
        "                    with lake.request(priority=1) as req:\n",
        "                        yield req\n",
        "                        drink_time = time_to_('drink')\n",
        "                        #print(\"started drinking = %f and time remaining = %f\" % (self.env.now, drink_time))\n",
        "                        yield self.env.timeout(drink_time)\n",
        "\n",
        "                    self.thirsty = False\n",
        "\n",
        "    def drink_from_lake(self):\n",
        "        \"\"\"go drink at capacity limited lake from time to time\"\"\"\n",
        "        while True:\n",
        "            yield self.env.timeout(30)\n",
        "            ##yield self.env.timeout(time_to_('go_to_lake'))\n",
        "            if not self.thirsty:\n",
        "                # Only drink if currently not drinking from lake\n",
        "                self.process.interrupt()\n"
      ]
    },
    {
      "cell_type": "code",
      "execution_count": 11,
      "metadata": {
        "id": "wV36AqGnEbKc"
      },
      "outputs": [],
      "source": [
        "def other_water_uses(env, lake):\n",
        "    \"\"\"The lake also nourishes plants\"\"\"\n",
        "    while True:\n",
        "        # Start a new job\n",
        "        done_in = TREE_GROW_DURATION\n",
        "        while done_in:\n",
        "            # Retry the job until it is done.\n",
        "            # It's priority is lower than that of machine repairs.\n",
        "            with lake.request(priority=2) as req:\n",
        "                yield req\n",
        "                try:\n",
        "                    start = env.now\n",
        "                    yield env.timeout(done_in)\n",
        "                    TREES_GROWN = TREES_GROWN + 1\n",
        "                    done_in = 0\n",
        "                except simpy.Interrupt:\n",
        "                    done_in -= env.now - start\n",
        "\n"
      ]
    },
    {
      "cell_type": "code",
      "execution_count": 12,
      "metadata": {
        "id": "XEhMHYTyEbKd",
        "outputId": "0c018888-62ef-4fc8-93f3-6e85c3162049",
        "colab": {
          "base_uri": "https://localhost:8080/"
        }
      },
      "outputs": [
        {
          "output_type": "stream",
          "name": "stdout",
          "text": [
            "Lake results\n",
            "Animal 0 made 4 offspring.\n",
            "Animal 1 made 3 offspring.\n"
          ]
        }
      ],
      "source": [
        "# Setup and start the simulation\n",
        "SIM_TIME = 1000\n",
        "RANDOM_SEED = 1142\n",
        "TREES_GROWN = 0\n",
        "LAKE_CAPACITY = 6\n",
        "NUM_ANIMALS = 2\n",
        "\n",
        "random.seed(RANDOM_SEED)  # This helps reproducing the results\n",
        "\n",
        "# Create an environment and start the setup process\n",
        "env = simpy.Environment()\n",
        "\n",
        "lake = simpy.PreemptiveResource(env, capacity=LAKE_CAPACITY)\n",
        "animals = [Animal(env, 'Animal %d' % i, lake) for i in range(NUM_ANIMALS)]\n",
        "\n",
        "env.process(other_water_uses(env, lake))\n",
        "\n",
        "# Execute!\n",
        "env.run(until=SIM_TIME)\n",
        "\n",
        "# Analyis/results\n",
        "print('Lake results')\n",
        "for animal in animals:\n",
        "    print('%s made %d offspring.' % (animal.name, animal.offspring_made))\n",
        "\n"
      ]
    },
    {
      "cell_type": "markdown",
      "metadata": {
        "id": "gaZ17lZXEbKe"
      },
      "source": [
        "### Exercise: consider an extreme situation that might lead to fewer offspring even as there are more animals. How can we test this by modifying the code above?"
      ]
    },
    {
      "cell_type": "code",
      "execution_count": null,
      "metadata": {
        "id": "rihS2cNXEbKf"
      },
      "outputs": [],
      "source": [
        "NUM_ANIMALS = 200\n",
        "\n",
        "random.seed(RANDOM_SEED)  # This helps reproducing the results\n",
        "\n",
        "# Create an environment and start the setup process\n",
        "env = simpy.Environment()\n",
        "\n",
        "lake = simpy.PreemptiveResource(env, capacity=LAKE_CAPACITY)\n",
        "animals = [Animal(env, 'Animal %d' % i, lake) for i in range(NUM_ANIMALS)]\n",
        "\n",
        "env.process(other_water_uses(env, lake))\n",
        "\n",
        "# Execute!\n",
        "env.run(until=SIM_TIME)\n",
        "\n",
        "# Analyis/results\n",
        "print('Lake results')\n",
        "for animal in animals:\n",
        "    print('%s made %d offspring.' % (animal.name, animal.offspring_made))\n",
        ""
      ]
    },
    {
      "cell_type": "markdown",
      "metadata": {
        "id": "OZuUx3xCEbKh"
      },
      "source": [
        "### Exercise: How would you determine the number of offspring produced by the sim as a function of the number of animals?"
      ]
    },
    {
      "cell_type": "code",
      "execution_count": 14,
      "metadata": {
        "id": "Sj66nZvQEbKh",
        "outputId": "7f97cf09-c632-43b5-f10a-cfdae4311fe8",
        "colab": {
          "base_uri": "https://localhost:8080/",
          "height": 462
        }
      },
      "outputs": [
        {
          "output_type": "execute_result",
          "data": {
            "text/plain": [
              "[<matplotlib.lines.Line2D at 0x7dbaac289150>]"
            ]
          },
          "metadata": {},
          "execution_count": 14
        },
        {
          "output_type": "display_data",
          "data": {
            "text/plain": [
              "<Figure size 1000x500 with 1 Axes>"
            ],
            "image/png": "[encoded data removed]"
          },
          "metadata": {}
        }
      ],
      "source": [
        "num_offspring = []\n",
        "num_animals = [2, 10, 20, 50, 100, 150, 200]\n",
        "for num in num_animals:\n",
        "    # Create an environment and start the setup process\n",
        "    env = simpy.Environment()\n",
        "\n",
        "    lake = simpy.PreemptiveResource(env, capacity=LAKE_CAPACITY)\n",
        "    animals = [Animal(env, 'Animal %d' % i, lake) for i in range(num)]\n",
        "\n",
        "    env.process(other_water_uses(env, lake))\n",
        "\n",
        "    # Execute!\n",
        "    env.run(until=SIM_TIME)\n",
        "\n",
        "    this_offspring = 0\n",
        "    for animal in animals:\n",
        "        this_offspring += animal.offspring_made\n",
        "    num_offspring.append(this_offspring)\n",
        "\n",
        "plt.plot(num_animals, num_offspring)"
      ]
    },
    {
      "cell_type": "code",
      "execution_count": 15,
      "metadata": {
        "id": "8xwzU6nKEbKh",
        "outputId": "d0b9b24d-f822-4edb-9747-06b0681c1610",
        "colab": {
          "base_uri": "https://localhost:8080/"
        }
      },
      "outputs": [
        {
          "output_type": "execute_result",
          "data": {
            "text/plain": [
              "[7, 32, 53, 63, 41, 3, 0]"
            ]
          },
          "metadata": {},
          "execution_count": 15
        }
      ],
      "source": [
        "num_offspring"
      ]
    },
    {
      "cell_type": "markdown",
      "metadata": {
        "id": "Z4Uxi-w7EbKh"
      },
      "source": [
        "### Exercise: Can we put in some 'learning' in this model?\n",
        "#### How can we code animals that get smarter over time?\n"
      ]
    },
    {
      "cell_type": "code",
      "execution_count": 16,
      "metadata": {
        "id": "c16PbsL7EbKh"
      },
      "outputs": [],
      "source": [
        "class SmartAnimal(object):\n",
        "    def __init__(self, env, name, lake):\n",
        "        self.env            = env\n",
        "        self.name           = name\n",
        "        self.offspring_made = 0\n",
        "        self.thirsty        = False\n",
        "        self.experience     = 0\n",
        "\n",
        "        self.process = env.process(self.living(lake))\n",
        "        env.process(self.drink_from_lake())\n",
        "\n",
        "    def living(self, lake):\n",
        "        while True:\n",
        "            # Start making a new part\n",
        "            done_in = time_to_('eat')\n",
        "            while done_in:\n",
        "                try:\n",
        "                    # Working on the part\n",
        "                    start = self.env.now\n",
        "                    #print(\"started eating = %f and time remaining = %f\" % (self.env.now, done_in))\n",
        "                    yield self.env.timeout(done_in)\n",
        "                    done_in = 0  # Set to 0 to exit while loop.\n",
        "                except simpy.Interrupt:\n",
        "                    self.experience += 1\n",
        "                    self.thirsty     = True\n",
        "                    done_in         -= self.env.now - start  # How much time left?\n",
        "\n",
        "                    if self.experience > 2:\n",
        "                        self.experience -= 1\n",
        "                        print(\"with experience, decided to skip drinking\")\n",
        "                    else:\n",
        "\n",
        "                        # Seek access to the lake, either by waiting for another\n",
        "                        # animal to finish or displacing a feeding sapling\n",
        "                        with lake.request(priority=1) as req:\n",
        "                            yield req\n",
        "                            drink_time = time_to_('drink')\n",
        "                            #print(\"started drinking = %f and time remaining = %f\" % (self.env.now, drink_time))\n",
        "                            yield self.env.timeout(drink_time)\n",
        "                    self.thirsty = False\n",
        "\n",
        "            # Start making a new part\n",
        "            done_in = time_to_('repro')\n",
        "            while done_in:\n",
        "                try:\n",
        "                    # Working on the part\n",
        "                    start = self.env.now\n",
        "                    #print(\"started breeding = %f and time remaining = %f\" % (self.env.now, done_in))\n",
        "                    yield self.env.timeout(done_in)\n",
        "                    #print(\"MADE A BABY\")\n",
        "                    self.offspring_made += 1\n",
        "\n",
        "                    done_in = 0  # Set to 0 to exit while loop.\n",
        "\n",
        "                except simpy.Interrupt:\n",
        "                    self.thirsty = True\n",
        "                    done_in -= self.env.now - start  # How much time left?\n",
        "\n",
        "                    # Seek access to the lake, either by waiting for another\n",
        "                    # animal to finish or displacing a feeding sapling\n",
        "                    with lake.request(priority=1) as req:\n",
        "                        yield req\n",
        "                        drink_time = time_to_('drink')\n",
        "                        #print(\"started drinking = %f and time remaining = %f\" % (self.env.now, drink_time))\n",
        "                        yield self.env.timeout(drink_time)\n",
        "\n",
        "                    self.thirsty = False\n",
        "\n",
        "    def drink_from_lake(self):\n",
        "        \"\"\"go drink at capacity limited lake from time to time\"\"\"\n",
        "        while True:\n",
        "            yield self.env.timeout(30)\n",
        "            ##yield self.env.timeout(time_to_('go_to_lake'))\n",
        "            if not self.thirsty:\n",
        "                # Only drink if currently not drinking from lake\n",
        "                self.process.interrupt()\n"
      ]
    },
    {
      "cell_type": "code",
      "execution_count": 17,
      "metadata": {
        "id": "d3WVA_CoEbKi",
        "outputId": "4cc72d8b-47cd-4337-b61d-e60bbae290e2",
        "colab": {
          "base_uri": "https://localhost:8080/",
          "height": 1000
        }
      },
      "outputs": [
        {
          "output_type": "stream",
          "name": "stdout",
          "text": [
            "with experience, decided to skip drinking\n",
            "with experience, decided to skip drinking\n",
            "with experience, decided to skip drinking\n",
            "with experience, decided to skip drinking\n",
            "with experience, decided to skip drinking\n",
            "with experience, decided to skip drinking\n",
            "with experience, decided to skip drinking\n",
            "with experience, decided to skip drinking\n",
            "with experience, decided to skip drinking\n",
            "with experience, decided to skip drinking\n",
            "with experience, decided to skip drinking\n",
            "with experience, decided to skip drinking\n",
            "with experience, decided to skip drinking\n",
            "with experience, decided to skip drinking\n",
            "with experience, decided to skip drinking\n",
            "with experience, decided to skip drinking\n",
            "with experience, decided to skip drinking\n",
            "with experience, decided to skip drinking\n",
            "with experience, decided to skip drinking\n",
            "with experience, decided to skip drinking\n",
            "with experience, decided to skip drinking\n",
            "with experience, decided to skip drinking\n",
            "with experience, decided to skip drinking\n",
            "with experience, decided to skip drinking\n",
            "with experience, decided to skip drinking\n",
            "with experience, decided to skip drinking\n",
            "with experience, decided to skip drinking\n",
            "with experience, decided to skip drinking\n",
            "with experience, decided to skip drinking\n",
            "with experience, decided to skip drinking\n",
            "with experience, decided to skip drinking\n",
            "with experience, decided to skip drinking\n",
            "with experience, decided to skip drinking\n",
            "with experience, decided to skip drinking\n",
            "with experience, decided to skip drinking\n",
            "with experience, decided to skip drinking\n",
            "with experience, decided to skip drinking\n",
            "with experience, decided to skip drinking\n",
            "with experience, decided to skip drinking\n",
            "with experience, decided to skip drinking\n",
            "with experience, decided to skip drinking\n",
            "with experience, decided to skip drinking\n",
            "with experience, decided to skip drinking\n",
            "with experience, decided to skip drinking\n",
            "with experience, decided to skip drinking\n",
            "with experience, decided to skip drinking\n",
            "with experience, decided to skip drinking\n",
            "with experience, decided to skip drinking\n",
            "with experience, decided to skip drinking\n",
            "with experience, decided to skip drinking\n",
            "with experience, decided to skip drinking\n",
            "with experience, decided to skip drinking\n",
            "with experience, decided to skip drinking\n",
            "with experience, decided to skip drinking\n",
            "with experience, decided to skip drinking\n",
            "with experience, decided to skip drinking\n",
            "with experience, decided to skip drinking\n",
            "with experience, decided to skip drinking\n",
            "with experience, decided to skip drinking\n",
            "with experience, decided to skip drinking\n",
            "with experience, decided to skip drinking\n",
            "with experience, decided to skip drinking\n",
            "with experience, decided to skip drinking\n",
            "with experience, decided to skip drinking\n",
            "with experience, decided to skip drinking\n",
            "with experience, decided to skip drinking\n",
            "with experience, decided to skip drinking\n",
            "with experience, decided to skip drinking\n",
            "with experience, decided to skip drinking\n",
            "with experience, decided to skip drinking\n",
            "with experience, decided to skip drinking\n",
            "with experience, decided to skip drinking\n",
            "with experience, decided to skip drinking\n",
            "with experience, decided to skip drinking\n",
            "with experience, decided to skip drinking\n",
            "with experience, decided to skip drinking\n",
            "with experience, decided to skip drinking\n",
            "with experience, decided to skip drinking\n",
            "with experience, decided to skip drinking\n",
            "with experience, decided to skip drinking\n",
            "with experience, decided to skip drinking\n",
            "with experience, decided to skip drinking\n",
            "with experience, decided to skip drinking\n",
            "with experience, decided to skip drinking\n",
            "with experience, decided to skip drinking\n",
            "with experience, decided to skip drinking\n",
            "with experience, decided to skip drinking\n",
            "with experience, decided to skip drinking\n",
            "with experience, decided to skip drinking\n",
            "with experience, decided to skip drinking\n",
            "with experience, decided to skip drinking\n",
            "with experience, decided to skip drinking\n",
            "with experience, decided to skip drinking\n",
            "with experience, decided to skip drinking\n",
            "with experience, decided to skip drinking\n",
            "with experience, decided to skip drinking\n",
            "with experience, decided to skip drinking\n",
            "with experience, decided to skip drinking\n",
            "with experience, decided to skip drinking\n",
            "with experience, decided to skip drinking\n",
            "with experience, decided to skip drinking\n",
            "with experience, decided to skip drinking\n",
            "with experience, decided to skip drinking\n",
            "with experience, decided to skip drinking\n",
            "with experience, decided to skip drinking\n",
            "with experience, decided to skip drinking\n",
            "with experience, decided to skip drinking\n",
            "with experience, decided to skip drinking\n",
            "with experience, decided to skip drinking\n",
            "with experience, decided to skip drinking\n",
            "with experience, decided to skip drinking\n",
            "with experience, decided to skip drinking\n",
            "with experience, decided to skip drinking\n",
            "with experience, decided to skip drinking\n",
            "with experience, decided to skip drinking\n",
            "with experience, decided to skip drinking\n",
            "with experience, decided to skip drinking\n",
            "with experience, decided to skip drinking\n",
            "with experience, decided to skip drinking\n",
            "with experience, decided to skip drinking\n",
            "with experience, decided to skip drinking\n",
            "with experience, decided to skip drinking\n",
            "with experience, decided to skip drinking\n",
            "with experience, decided to skip drinking\n",
            "with experience, decided to skip drinking\n",
            "with experience, decided to skip drinking\n",
            "with experience, decided to skip drinking\n",
            "with experience, decided to skip drinking\n",
            "with experience, decided to skip drinking\n",
            "with experience, decided to skip drinking\n",
            "with experience, decided to skip drinking\n",
            "with experience, decided to skip drinking\n",
            "with experience, decided to skip drinking\n",
            "with experience, decided to skip drinking\n",
            "with experience, decided to skip drinking\n",
            "with experience, decided to skip drinking\n",
            "with experience, decided to skip drinking\n",
            "with experience, decided to skip drinking\n",
            "with experience, decided to skip drinking\n",
            "with experience, decided to skip drinking\n",
            "with experience, decided to skip drinking\n",
            "with experience, decided to skip drinking\n",
            "with experience, decided to skip drinking\n",
            "with experience, decided to skip drinking\n",
            "with experience, decided to skip drinking\n",
            "with experience, decided to skip drinking\n",
            "with experience, decided to skip drinking\n",
            "with experience, decided to skip drinking\n",
            "with experience, decided to skip drinking\n",
            "with experience, decided to skip drinking\n",
            "with experience, decided to skip drinking\n"
          ]
        },
        {
          "output_type": "execute_result",
          "data": {
            "text/plain": [
              "[<matplotlib.lines.Line2D at 0x7dbabc158820>]"
            ]
          },
          "metadata": {},
          "execution_count": 17
        },
        {
          "output_type": "display_data",
          "data": {
            "text/plain": [
              "<Figure size 1000x500 with 1 Axes>"
            ],
            "image/png": "[encoded data removed]"
          },
          "metadata": {}
        }
      ],
      "source": [
        "num_offspring = []\n",
        "num_animals = [2, 10, 20, 50, 100, 150, 200]\n",
        "for num in num_animals:\n",
        "    # Create an environment and start the setup process\n",
        "    env = simpy.Environment()\n",
        "\n",
        "    lake = simpy.PreemptiveResource(env, capacity=LAKE_CAPACITY)\n",
        "    animals = [SmartAnimal(env, 'Animal %d' % i, lake) for i in range(num)]\n",
        "\n",
        "    env.process(other_water_uses(env, lake))\n",
        "\n",
        "    # Execute!\n",
        "    env.run(until=SIM_TIME*3)\n",
        "\n",
        "    this_offspring = 0\n",
        "    for animal in animals:\n",
        "        this_offspring += animal.offspring_made\n",
        "    num_offspring.append(this_offspring)\n",
        "\n",
        "plt.plot(num_animals, num_offspring)"
      ]
    },
    {
      "cell_type": "code",
      "execution_count": 18,
      "metadata": {
        "id": "PpxmOF4DEbKi",
        "outputId": "539a6367-b846-4737-8079-7b5155920f7f",
        "colab": {
          "base_uri": "https://localhost:8080/"
        }
      },
      "outputs": [
        {
          "output_type": "execute_result",
          "data": {
            "text/plain": [
              "[22, 106, 180, 246, 223, 195, 184]"
            ]
          },
          "metadata": {},
          "execution_count": 18
        }
      ],
      "source": [
        "num_offspring"
      ]
    },
    {
      "cell_type": "markdown",
      "metadata": {
        "id": "ynSEiN14EbKi"
      },
      "source": [
        "#### Can we think of a way so that some but not all animals get smarter/better over time?"
      ]
    },
    {
      "cell_type": "code",
      "execution_count": 19,
      "metadata": {
        "id": "zrFWSxCLEbKi"
      },
      "outputs": [],
      "source": [
        "class SomeSmartAnimal(object):\n",
        "    def __init__(self, env, name, lake):\n",
        "        self.env            = env\n",
        "        self.name           = name\n",
        "        self.offspring_made = 0\n",
        "        self.thirsty        = False\n",
        "        self.experience     = 0\n",
        "        self.can_learn      = np.random.randint(0, 2)\n",
        "\n",
        "        self.process = env.process(self.living(lake))\n",
        "        env.process(self.drink_from_lake())\n",
        "\n",
        "    def living(self, lake):\n",
        "        while True:\n",
        "            # Start making a new part\n",
        "            done_in = time_to_('eat')\n",
        "            while done_in:\n",
        "                try:\n",
        "                    # Working on the part\n",
        "                    start = self.env.now\n",
        "                    #print(\"started eating = %f and time remaining = %f\" % (self.env.now, done_in))\n",
        "                    yield self.env.timeout(done_in)\n",
        "                    done_in = 0  # Set to 0 to exit while loop.\n",
        "                except simpy.Interrupt:\n",
        "                    if self.can_learn:\n",
        "                        self.experience += 1\n",
        "\n",
        "                    self.thirsty     = True\n",
        "                    done_in         -= self.env.now - start  # How much time left?\n",
        "\n",
        "                    if self.experience > 2:\n",
        "                        self.experience -= 1\n",
        "                        print(\"with experience, decided to skip drinking\")\n",
        "                    else:\n",
        "\n",
        "                        # Seek access to the lake, either by waiting for another\n",
        "                        # animal to finish or displacing a feeding sapling\n",
        "                        with lake.request(priority=1) as req:\n",
        "                            yield req\n",
        "                            drink_time = time_to_('drink')\n",
        "                            #print(\"started drinking = %f and time remaining = %f\" % (self.env.now, drink_time))\n",
        "                            yield self.env.timeout(drink_time)\n",
        "                    self.thirsty = False\n",
        "\n",
        "            # Start making a new part\n",
        "            done_in = time_to_('repro')\n",
        "            while done_in:\n",
        "                try:\n",
        "                    # Working on the part\n",
        "                    start = self.env.now\n",
        "                    #print(\"started breeding = %f and time remaining = %f\" % (self.env.now, done_in))\n",
        "                    yield self.env.timeout(done_in)\n",
        "                    #print(\"MADE A BABY\")\n",
        "                    self.offspring_made += 1\n",
        "\n",
        "                    done_in = 0  # Set to 0 to exit while loop.\n",
        "\n",
        "                except simpy.Interrupt:\n",
        "                    self.thirsty = True\n",
        "                    done_in -= self.env.now - start  # How much time left?\n",
        "\n",
        "                    # Seek access to the lake, either by waiting for another\n",
        "                    # animal to finish or displacing a feeding sapling\n",
        "                    with lake.request(priority=1) as req:\n",
        "                        yield req\n",
        "                        drink_time = time_to_('drink')\n",
        "                        #print(\"started drinking = %f and time remaining = %f\" % (self.env.now, drink_time))\n",
        "                        yield self.env.timeout(drink_time)\n",
        "\n",
        "                    self.thirsty = False\n",
        "\n",
        "    def drink_from_lake(self):\n",
        "        \"\"\"go drink at capacity limited lake from time to time\"\"\"\n",
        "        while True:\n",
        "            yield self.env.timeout(30)\n",
        "            ##yield self.env.timeout(time_to_('go_to_lake'))\n",
        "            if not self.thirsty:\n",
        "                # Only drink if currently not drinking from lake\n",
        "                self.process.interrupt()\n"
      ]
    },
    {
      "cell_type": "code",
      "execution_count": 20,
      "metadata": {
        "id": "7JbmfVjAEbKi",
        "outputId": "3cda2792-3e5c-4b91-c56c-81cbcdbca954",
        "colab": {
          "base_uri": "https://localhost:8080/",
          "height": 1000
        }
      },
      "outputs": [
        {
          "output_type": "stream",
          "name": "stdout",
          "text": [
            "with experience, decided to skip drinking\n",
            "with experience, decided to skip drinking\n",
            "with experience, decided to skip drinking\n",
            "with experience, decided to skip drinking\n",
            "with experience, decided to skip drinking\n",
            "with experience, decided to skip drinking\n",
            "with experience, decided to skip drinking\n",
            "with experience, decided to skip drinking\n",
            "with experience, decided to skip drinking\n",
            "with experience, decided to skip drinking\n",
            "with experience, decided to skip drinking\n",
            "with experience, decided to skip drinking\n",
            "with experience, decided to skip drinking\n",
            "with experience, decided to skip drinking\n",
            "with experience, decided to skip drinking\n",
            "with experience, decided to skip drinking\n",
            "with experience, decided to skip drinking\n",
            "with experience, decided to skip drinking\n",
            "with experience, decided to skip drinking\n",
            "with experience, decided to skip drinking\n",
            "with experience, decided to skip drinking\n",
            "with experience, decided to skip drinking\n",
            "with experience, decided to skip drinking\n",
            "with experience, decided to skip drinking\n",
            "with experience, decided to skip drinking\n",
            "with experience, decided to skip drinking\n",
            "with experience, decided to skip drinking\n",
            "with experience, decided to skip drinking\n",
            "with experience, decided to skip drinking\n",
            "with experience, decided to skip drinking\n",
            "with experience, decided to skip drinking\n",
            "with experience, decided to skip drinking\n",
            "with experience, decided to skip drinking\n",
            "with experience, decided to skip drinking\n",
            "with experience, decided to skip drinking\n",
            "with experience, decided to skip drinking\n",
            "with experience, decided to skip drinking\n",
            "with experience, decided to skip drinking\n",
            "with experience, decided to skip drinking\n",
            "with experience, decided to skip drinking\n",
            "with experience, decided to skip drinking\n",
            "with experience, decided to skip drinking\n",
            "with experience, decided to skip drinking\n",
            "with experience, decided to skip drinking\n",
            "with experience, decided to skip drinking\n",
            "with experience, decided to skip drinking\n",
            "with experience, decided to skip drinking\n",
            "with experience, decided to skip drinking\n",
            "with experience, decided to skip drinking\n",
            "with experience, decided to skip drinking\n",
            "with experience, decided to skip drinking\n",
            "with experience, decided to skip drinking\n",
            "with experience, decided to skip drinking\n",
            "with experience, decided to skip drinking\n",
            "with experience, decided to skip drinking\n",
            "with experience, decided to skip drinking\n",
            "with experience, decided to skip drinking\n",
            "with experience, decided to skip drinking\n",
            "with experience, decided to skip drinking\n",
            "with experience, decided to skip drinking\n",
            "with experience, decided to skip drinking\n",
            "with experience, decided to skip drinking\n",
            "with experience, decided to skip drinking\n",
            "with experience, decided to skip drinking\n",
            "with experience, decided to skip drinking\n",
            "with experience, decided to skip drinking\n",
            "with experience, decided to skip drinking\n",
            "with experience, decided to skip drinking\n",
            "with experience, decided to skip drinking\n",
            "with experience, decided to skip drinking\n",
            "with experience, decided to skip drinking\n"
          ]
        },
        {
          "output_type": "execute_result",
          "data": {
            "text/plain": [
              "[<matplotlib.lines.Line2D at 0x7dbaac04bcd0>]"
            ]
          },
          "metadata": {},
          "execution_count": 20
        },
        {
          "output_type": "display_data",
          "data": {
            "text/plain": [
              "<Figure size 1000x500 with 1 Axes>"
            ],
            "image/png": "[encoded data removed]"
          },
          "metadata": {}
        }
      ],
      "source": [
        "num_offspring = []\n",
        "num_animals = [2, 10, 20, 50, 100, 150, 200]\n",
        "for num in num_animals:\n",
        "    # Create an environment and start the setup process\n",
        "    env = simpy.Environment()\n",
        "\n",
        "    lake = simpy.PreemptiveResource(env, capacity=LAKE_CAPACITY)\n",
        "    animals = [SomeSmartAnimal(env, 'Animal %d' % i, lake) for i in range(num)]\n",
        "\n",
        "    env.process(other_water_uses(env, lake))\n",
        "\n",
        "    # Execute!\n",
        "    env.run(until=SIM_TIME*3)\n",
        "\n",
        "    this_offspring = 0\n",
        "    for animal in animals:\n",
        "        this_offspring += animal.offspring_made\n",
        "    num_offspring.append(this_offspring)\n",
        "\n",
        "plt.plot(num_animals, num_offspring)"
      ]
    },
    {
      "cell_type": "code",
      "execution_count": null,
      "metadata": {
        "id": "BWi721NREbKl"
      },
      "outputs": [],
      "source": [
        "num_offspring"
      ]
    },
    {
      "cell_type": "markdown",
      "metadata": {
        "id": "RVzm9ta-EbKm"
      },
      "source": [
        "### Exercise: Take a look at SimPy's API. How could we add a meaningful constraint to the water levels in lake?"
      ]
    },
    {
      "cell_type": "code",
      "execution_count": null,
      "metadata": {
        "id": "tbeI9bv3EbKm"
      },
      "outputs": [],
      "source": []
    }
  ],
  "metadata": {
    "kernelspec": {
      "display_name": "Python 3",
      "language": "python",
      "name": "python3"
    },
    "language_info": {
      "codemirror_mode": {
        "name": "ipython",
        "version": 3
      },
      "file_extension": ".py",
      "mimetype": "text/x-python",
      "name": "python",
      "nbconvert_exporter": "python",
      "pygments_lexer": "ipython3",
      "version": "3.6.8"
    },
    "colab": {
      "provenance": []
    }
  },
  "nbformat": 4,
  "nbformat_minor": 0
}